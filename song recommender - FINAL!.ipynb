{
 "cells": [
  {
   "cell_type": "code",
   "execution_count": 1,
   "id": "765ece76",
   "metadata": {},
   "outputs": [],
   "source": [
    "import pandas as pd\n",
    "import numpy as np\n",
    "import requests\n",
    "from bs4 import BeautifulSoup\n",
    "import random\n",
    "import spotipy\n",
    "from spotipy.oauth2 import SpotifyClientCredentials\n",
    "from time import sleep\n",
    "import matplotlib.pyplot as plt\n",
    "%matplotlib inline\n",
    "import warnings\n",
    "import pickle\n",
    "warnings.filterwarnings('ignore')\n",
    "from sklearn import cluster, datasets\n",
    "from sklearn.preprocessing import StandardScaler\n",
    "from matplotlib.lines import Line2D\n",
    "from sklearn.cluster import KMeans\n",
    "from sklearn.metrics import silhouette_score"
   ]
  },
  {
   "cell_type": "code",
   "execution_count": 2,
   "id": "4e73178e",
   "metadata": {},
   "outputs": [],
   "source": [
    "#Function to reccomend song\n",
    "def song_recommendation(name):\n",
    "    secrets_file = open(\"secrets.txt\",\"r\")\n",
    "    string = secrets_file.read()\n",
    "    secrets_dict={}\n",
    "    for line in string.split('\\n'):\n",
    "        if len(line) > 0:\n",
    "            secrets_dict[line.split(':')[0]]=line.split(':')[1]\n",
    "    sp = spotipy.Spotify(auth_manager=SpotifyClientCredentials(client_id=secrets_dict['cid'],\n",
    "                                                               client_secret=secrets_dict['csecret']))\n",
    "    search = sp.search(q='track:' + name, type='track')  # searches for all the track info\n",
    "    track_uri = search['tracks']['items'][0]['uri']      # get the track uri from search output\n",
    "    features = sp.audio_features(track_uri)              # gets the audio features\n",
    "\n",
    "    features_df = pd.DataFrame(features[0], index=[0])[['danceability', 'energy', 'loudness', 'speechiness',\n",
    "                          'acousticness', 'instrumentalness', 'liveness', \n",
    "                          'valence', 'tempo']] # put features into dataframe\n",
    "\n",
    "    scaler = pickle.load(open('scaler.pkl', 'rb'))  # load scaler \n",
    "    model = pickle.load(open('model.pkl', 'rb'))    # load model\n",
    "    X_prep = scaler.transform(features_df)          # use scaler on features\n",
    "    cluster = model.predict(X_prep)                 # predict cluster for that song\n",
    "    clustered_df = pd.read_csv('clustered_df.csv', index_col='Unnamed: 0') #read our df with 10,000\n",
    "    return clustered_df[clustered_df['cluster'] == cluster[0]].sample(1)['song'].values[0] \n",
    "            #match the cluster to the cluster in my df and give me one random song"
   ]
  },
  {
   "cell_type": "code",
   "execution_count": 3,
   "id": "7267f3ab",
   "metadata": {},
   "outputs": [
    {
     "data": {
      "text/plain": [
       "\"Ascension (Don't Ever Wonder) - Remastered 2021\""
      ]
     },
     "execution_count": 3,
     "metadata": {},
     "output_type": "execute_result"
    }
   ],
   "source": [
    "song_recommendation('like a rolling stone')"
   ]
  },
  {
   "cell_type": "code",
   "execution_count": 10,
   "id": "70db7edd",
   "metadata": {},
   "outputs": [],
   "source": [
    "def recommendation():\n",
    "    top100 = pd.read_csv('top100.csv', index_col='Unnamed: 0')\n",
    "    random_song=random.choice(top100['title'])\n",
    "    user_choice = input ('Choose a song from the top 100:') \n",
    "    \n",
    "    if user_choice.lower() not in list(top100['title']):\n",
    "        song = song_recommendation(user_choice) #applying above function here on user choice\n",
    "        print(\"If you like the song \" + \"'\" + user_choice + \"'\" + \" then listen to this next: \" + \"'\" + song + \"'\")\n",
    "    else:\n",
    "        print(\"If you like the song \" + \"'\" + user_choice + \"'\" + \" then listen to this next: \" + \"'\" + random_song + \"'\")"
   ]
  },
  {
   "cell_type": "code",
   "execution_count": 13,
   "id": "b05cadcc",
   "metadata": {},
   "outputs": [
    {
     "name": "stdout",
     "output_type": "stream",
     "text": [
      "Choose a song from the top 100:about damn time\n",
      "If you like the song 'about damn time' then listen to this next: 'can't stop us now'\n"
     ]
    }
   ],
   "source": [
    "recommendation()"
   ]
  },
  {
   "cell_type": "code",
   "execution_count": null,
   "id": "a8804977",
   "metadata": {},
   "outputs": [],
   "source": []
  }
 ],
 "metadata": {
  "kernelspec": {
   "display_name": "Python 3 (ipykernel)",
   "language": "python",
   "name": "python3"
  },
  "language_info": {
   "codemirror_mode": {
    "name": "ipython",
    "version": 3
   },
   "file_extension": ".py",
   "mimetype": "text/x-python",
   "name": "python",
   "nbconvert_exporter": "python",
   "pygments_lexer": "ipython3",
   "version": "3.9.7"
  }
 },
 "nbformat": 4,
 "nbformat_minor": 5
}
